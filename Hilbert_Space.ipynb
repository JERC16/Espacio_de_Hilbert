{
  "nbformat": 4,
  "nbformat_minor": 0,
  "metadata": {
    "colab": {
      "provenance": []
    },
    "kernelspec": {
      "name": "python3",
      "display_name": "Python 3"
    },
    "language_info": {
      "name": "python"
    }
  },
  "cells": [
    {
      "cell_type": "markdown",
      "source": [
        "# HILBERT SPACE\n"
      ],
      "metadata": {
        "id": "sVHytLAcTchT"
      }
    },
    {
      "cell_type": "markdown",
      "source": [
        "QuantumQuipu-UNMSM\n",
        "\n",
        "---\n",
        "\n",
        "\n",
        "Hecho por José ELías Rojas Camarena\n",
        "\n"
      ],
      "metadata": {
        "id": "6HwhjcI1Tn_c"
      }
    },
    {
      "cell_type": "markdown",
      "source": [
        "**1. Introdución**"
      ],
      "metadata": {
        "id": "tD9Tza5XUbhk"
      }
    },
    {
      "cell_type": "markdown",
      "source": [
        "Un espacio matemático en general es un conjunto que tiene una estructura específica. Dicha estructura se puede construir o dar sobre ciertas operaciones que caracterizarán a los elementos de ese conjunto. Estas operaciones servirán como base para la formulación de postulados o axiomas de ese espacio matemático."
      ],
      "metadata": {
        "id": "V3Piaz98VCXx"
      }
    },
    {
      "cell_type": "markdown",
      "source": [
        "**1.1 Espacio vectorial**                                                      "
      ],
      "metadata": {
        "id": "I1NY25AGZV_o"
      }
    },
    {
      "cell_type": "markdown",
      "source": [
        "\n",
        "Un conjunto $\\nu$ que presenta las operaciones de suma vectorial y producto por un escalar se le llama espacio vectorial. Donde la suma vectorial es un mapeo de la forma:"
      ],
      "metadata": {
        "id": "Dq1yh6M5aLve"
      }
    },
    {
      "cell_type": "markdown",
      "source": [
        "\n",
        "\n",
        "*   (f,g) $\\rightarrow$ f+g\n",
        "*   (f,g) $\\epsilon$ $\\nu$$\\times$$\\nu$\n",
        "\n",
        "$\\Rightarrow$  f+g $\\epsilon$ $\\nu$\n",
        "\n",
        "\n",
        "\n",
        "\n",
        "\n",
        "\n",
        "\n",
        "\n"
      ],
      "metadata": {
        "id": "0xgx7SPJO6Ri"
      }
    },
    {
      "cell_type": "markdown",
      "source": [
        "\n",
        "\n",
        "Para el producto por un escalar de un campo F, el mapeo queda dfinido como:\n",
        "\n"
      ],
      "metadata": {
        "id": "d0Erc9GMjHlZ"
      }
    },
    {
      "cell_type": "markdown",
      "source": [
        "\n",
        "*   (a,f)  $\\rightarrow$ af\n",
        "*   (a,f) $\\epsilon$ F$\\times$$\\nu$\n",
        "\n",
        "$\\Rightarrow$ af $\\epsilon$ $\\nu$\n",
        "\n",
        "\n",
        "\n",
        "\n",
        "\n",
        "\n",
        "\n"
      ],
      "metadata": {
        "id": "H_ajLT_mQ0Fk"
      }
    },
    {
      "cell_type": "markdown",
      "source": [
        "**Nota: Un campo es un conjunto cuyos elementos cumplen los axiomas de clausura, asotiatividad, existencia del elemento neutro y existencia del elemento inverso bajo una operación u operador (+,-,x,...).**"
      ],
      "metadata": {
        "id": "EXyib0JpTGpo"
      }
    },
    {
      "cell_type": "markdown",
      "source": [
        "Los elementos que conforman el espacio vectorial cumplirán los siguientes axiomas que serán la base para toda las construcciónes matemática de este espacio, donde f, g, h $\\epsilon$ $\\nu$ y a,b $\\epsilon$ F:"
      ],
      "metadata": {
        "id": "mNRGx-uYmutd"
      }
    },
    {
      "cell_type": "markdown",
      "source": [
        "\n",
        "\n",
        "*   f+g = g+h\n",
        "\n",
        "*   (f+g)+h=f+(g+h)\n",
        "\n",
        "*   Existe un vector 0 el cual satisface la relación de f+0=f\n",
        "\n",
        "*   a(f+g)=af+ag\n",
        "\n",
        "*   (a+b)f=af+bf\n",
        "\n",
        "*   (ab)f=a(bf)\n",
        "\n",
        "*   1f=f\n",
        "\n",
        "\n"
      ],
      "metadata": {
        "id": "TXQIVfgNYWnh"
      }
    },
    {
      "cell_type": "markdown",
      "source": [
        "En resumen, sea un espacio matemático S será llamado espacio vectorial $\\nu$ si está conformado por un conjunto $\\nu$ que cumple las operaciones vectroiales sobre el mismo $\\nu$, pero si a su vez se le agrega un atributo más como el del producto por un esclar cuyos escalares pertencen al campo F, entonces, también será un espacio vectorial $\\nu$ sobre el campo F, el cual dependiendo si el campo es real o complejo el vecotor que forma parte del espacio vectorial será un vector real o complejo.   "
      ],
      "metadata": {
        "id": "QW8JBRBxbA9E"
      }
    },
    {
      "cell_type": "markdown",
      "source": [
        "Se define los vectores sobre el campo real $\\mathbb{R}^{n}$ de forma matricial como:"
      ],
      "metadata": {
        "id": "WaNHeOqimusd"
      }
    },
    {
      "cell_type": "markdown",
      "source": [
        "$\\alpha$=\n",
        "$\\begin{pmatrix}a{_{1}}\n",
        "\\\\.\n",
        "\\\\.\n",
        "\\\\.\n",
        "\\\\ a{_{n}}\n",
        "\\end{pmatrix}$ , $\\varphi$=\n",
        "$\\begin{pmatrix}b{_{1}}\n",
        "\\\\.\n",
        "\\\\.\n",
        "\\\\.\n",
        "\\\\ b{_{n}}\n",
        "\\end{pmatrix}$"
      ],
      "metadata": {
        "id": "cu-X0BSYpd5N"
      }
    },
    {
      "cell_type": "markdown",
      "source": [
        "Su suma se define como:"
      ],
      "metadata": {
        "id": "OHgURj607SD1"
      }
    },
    {
      "cell_type": "markdown",
      "source": [
        "($\\alpha$,$\\varphi$) $\\rightarrow$ $\\alpha$+$\\varphi$=$\\begin{pmatrix}a_{1}+b_{1}\n",
        "\\\\ .\n",
        "\\\\ .\n",
        "\\\\ .\n",
        "\\\\ a_{n}+b_{n}\n",
        "\\end{pmatrix}$"
      ],
      "metadata": {
        "id": "umCXGWDW7cx8"
      }
    },
    {
      "cell_type": "markdown",
      "source": [
        "$\\forall a \\in \\mathbb{R}$, la multiplicación por un escalar quedará definida como:"
      ],
      "metadata": {
        "id": "QXrnXlLPAHgU"
      }
    },
    {
      "cell_type": "markdown",
      "source": [
        "(a,$\\alpha$) $\\rightarrow$ a$\\alpha$=$\\begin{pmatrix}aa_{1}\n",
        "\\\\.\n",
        "\\\\.\n",
        "\\\\.\n",
        "\\\\aa_{n}\n",
        "\\end{pmatrix}$"
      ],
      "metadata": {
        "id": "1ydi-2YyD4FH"
      }
    },
    {
      "cell_type": "markdown",
      "source": [
        "Análogamente, si se trabaja en un espacio vectorial complejo la forma de definir al vector y sus axiomas serán lo mismo que lo expresado anteriromente para un campo escalar, solo que ahora será un espacio vecotrial sobre $\\mathbb{C}^{n}$"
      ],
      "metadata": {
        "id": "yaFRLIapJp7v"
      }
    },
    {
      "cell_type": "markdown",
      "source": [
        "**1.1.1 Vectores linelmente independientes**"
      ],
      "metadata": {
        "id": "zKPSRBcgKVDR"
      }
    },
    {
      "cell_type": "markdown",
      "source": [
        "Para entender mejor la independencia lineal de vectores, se tiene que probrar el siguiente teorema:"
      ],
      "metadata": {
        "id": "_q6aJSSQUn-U"
      }
    },
    {
      "cell_type": "markdown",
      "source": [
        "El espacio vetorial"
      ],
      "metadata": {
        "id": "-80ZywhaWYFs"
      }
    },
    {
      "cell_type": "markdown",
      "source": [
        "**Se dice que los vectores f1,f2,f3,f4,...,fn son linealmente independientes si (relación)**"
      ],
      "metadata": {
        "id": "vS0hDWTpYx5H"
      }
    },
    {
      "cell_type": "markdown",
      "source": [
        "![image.png](data:image/png;base64,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)"
      ],
      "metadata": {
        "id": "zTcA_D1WZLmS"
      }
    },
    {
      "cell_type": "markdown",
      "source": [
        "**1.1.2 Dimensiones de un espacio vectorial**"
      ],
      "metadata": {
        "id": "7mMYMwU8Zr51"
      }
    },
    {
      "cell_type": "markdown",
      "source": [
        "**1.1.3 Isomorfismo de espacios vectoriales**"
      ],
      "metadata": {
        "id": "7Eq6DBBkcKxJ"
      }
    },
    {
      "cell_type": "markdown",
      "source": [
        "**Problemas**"
      ],
      "metadata": {
        "id": "DbMKBwbdcoVp"
      }
    },
    {
      "cell_type": "markdown",
      "source": [
        "**1.2 Pre Hilbert**"
      ],
      "metadata": {
        "id": "sRvyYCIDcSzg"
      }
    }
  ]
}